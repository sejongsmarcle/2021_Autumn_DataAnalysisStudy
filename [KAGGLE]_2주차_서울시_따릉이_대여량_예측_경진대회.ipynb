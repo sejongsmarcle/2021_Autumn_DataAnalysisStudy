{
  "nbformat": 4,
  "nbformat_minor": 0,
  "metadata": {
    "colab": {
      "provenance": [],
      "collapsed_sections": [
        "JrX_u5l142MD",
        "8YbpXLBcD3y1"
      ],
      "authorship_tag": "ABX9TyOx5TcFttvYiIr9s+KslI7k",
      "include_colab_link": true
    },
    "kernelspec": {
      "name": "python3",
      "display_name": "Python 3"
    },
    "language_info": {
      "name": "python"
    }
  },
  "cells": [
    {
      "cell_type": "markdown",
      "metadata": {
        "id": "view-in-github",
        "colab_type": "text"
      },
      "source": [
        "<a href=\"https://colab.research.google.com/github/sejongsmarcle/2021_Autumn_DataAnalysisStudy/blob/main/%5BKAGGLE%5D_2%EC%A3%BC%EC%B0%A8_%EC%84%9C%EC%9A%B8%EC%8B%9C_%EB%94%B0%EB%A6%89%EC%9D%B4_%EB%8C%80%EC%97%AC%EB%9F%89_%EC%98%88%EC%B8%A1_%EA%B2%BD%EC%A7%84%EB%8C%80%ED%9A%8C.ipynb\" target=\"_parent\"><img src=\"https://colab.research.google.com/assets/colab-badge.svg\" alt=\"Open In Colab\"/></a>"
      ]
    },
    {
      "cell_type": "markdown",
      "source": [
        "##1. 라이브러리 및 데이터\n",
        "----\n",
        "(1) pandas: 파이썬으로 작성된 데이터 분석/조작을 위한 라이브러리\n",
        "\n",
        "\n",
        "\n",
        "\n",
        "(2) RandomForestRegressor : 과대적합 방지를 위해, 최적의 변수를 랜덤하게 선택하는 머신러닝 기법\n"
      ],
      "metadata": {
        "id": "JrX_u5l142MD"
      }
    },
    {
      "cell_type": "code",
      "execution_count": 1,
      "metadata": {
        "id": "oAeGT5CY4X2Y"
      },
      "outputs": [],
      "source": [
        "import pandas as pd\n",
        "from sklearn.ensemble import RandomForestRegressor "
      ]
    },
    {
      "cell_type": "code",
      "source": [
        "train = pd.read_csv('/var/tmp/train.csv') # 모델 시험지 파일\n",
        "\n",
        "test = pd.read_csv('/var/tmp/test.csv') # 모델 학습 파일\n",
        "\n",
        "submission = pd.read_csv('/var/tmp/submission.csv') #답안지 파일 "
      ],
      "metadata": {
        "id": "V9lkum2g5A04"
      },
      "execution_count": 2,
      "outputs": []
    },
    {
      "cell_type": "markdown",
      "source": [
        "## 2. 탐색적 자료분석\n",
        "## Exploratory Data Analysis (EDA)\n"
      ],
      "metadata": {
        "id": "6yGhX3Zb5NN6"
      }
    },
    {
      "cell_type": "markdown",
      "source": [
        "### 2-1. 데이터 분석"
      ],
      "metadata": {
        "id": "ed9HIjo55_Tr"
      }
    },
    {
      "cell_type": "markdown",
      "metadata": {
        "id": "9n-wG2ueQl8s"
      },
      "source": [
        "+ id : 날짜와 시간별 id\n",
        "+ hour_bef_temperature : 1시간 전 기온\n",
        "+ hour_bef_precipitation : 1시간 전 비 정보, 비가 오지 않았으면 0, 비가 오면 1\n",
        "+ hour_bef_windspeed : 1시간 전 풍속(평균)\n",
        "+ hour_bef_humidity : 1시간 전 습도\n",
        "+ hour_bef_visibility : 1시간 전 시정(視程), 시계(視界)(특정 기상 상태에 따른 가시성을 의미)\n",
        "+ hour_bef_ozone : 1시간 전 오존\n",
        "+ hour_bef_pm10 : 1시간 전 미세먼지(머리카락 굵기의 1/5에서 1/7 크기의 미세먼지)\n",
        "+ hour_bef_pm2.5 : 1시간 전 미세먼지(머리카락 굵기의 1/20에서 1/30 크기의 미세먼지)\n",
        "+ count : 시간에 따른 따릉이 대여 수 "
      ]
    },
    {
      "cell_type": "code",
      "source": [
        "# train - 5개 행을 보여줌 \n",
        "# 모두 수치형으로 들어감을 확인 \n",
        "train.head()"
      ],
      "metadata": {
        "colab": {
          "base_uri": "https://localhost:8080/",
          "height": 206
        },
        "id": "7TEAdmmX5ahD",
        "outputId": "7027d57a-5f1d-4692-a3d0-cd623ccfa3d3"
      },
      "execution_count": 3,
      "outputs": [
        {
          "output_type": "execute_result",
          "data": {
            "text/plain": [
              "   id  hour  hour_bef_temperature  hour_bef_precipitation  hour_bef_windspeed  \\\n",
              "0   3    20                  16.3                     1.0                 1.5   \n",
              "1   6    13                  20.1                     0.0                 1.4   \n",
              "2   7     6                  13.9                     0.0                 0.7   \n",
              "3   8    23                   8.1                     0.0                 2.7   \n",
              "4   9    18                  29.5                     0.0                 4.8   \n",
              "\n",
              "   hour_bef_humidity  hour_bef_visibility  hour_bef_ozone  hour_bef_pm10  \\\n",
              "0               89.0                576.0           0.027           76.0   \n",
              "1               48.0                916.0           0.042           73.0   \n",
              "2               79.0               1382.0           0.033           32.0   \n",
              "3               54.0                946.0           0.040           75.0   \n",
              "4                7.0               2000.0           0.057           27.0   \n",
              "\n",
              "   hour_bef_pm2.5  count  \n",
              "0            33.0   49.0  \n",
              "1            40.0  159.0  \n",
              "2            19.0   26.0  \n",
              "3            64.0   57.0  \n",
              "4            11.0  431.0  "
            ],
            "text/html": [
              "\n",
              "  <div id=\"df-7c12f891-f966-4453-82bc-4be6646832bb\">\n",
              "    <div class=\"colab-df-container\">\n",
              "      <div>\n",
              "<style scoped>\n",
              "    .dataframe tbody tr th:only-of-type {\n",
              "        vertical-align: middle;\n",
              "    }\n",
              "\n",
              "    .dataframe tbody tr th {\n",
              "        vertical-align: top;\n",
              "    }\n",
              "\n",
              "    .dataframe thead th {\n",
              "        text-align: right;\n",
              "    }\n",
              "</style>\n",
              "<table border=\"1\" class=\"dataframe\">\n",
              "  <thead>\n",
              "    <tr style=\"text-align: right;\">\n",
              "      <th></th>\n",
              "      <th>id</th>\n",
              "      <th>hour</th>\n",
              "      <th>hour_bef_temperature</th>\n",
              "      <th>hour_bef_precipitation</th>\n",
              "      <th>hour_bef_windspeed</th>\n",
              "      <th>hour_bef_humidity</th>\n",
              "      <th>hour_bef_visibility</th>\n",
              "      <th>hour_bef_ozone</th>\n",
              "      <th>hour_bef_pm10</th>\n",
              "      <th>hour_bef_pm2.5</th>\n",
              "      <th>count</th>\n",
              "    </tr>\n",
              "  </thead>\n",
              "  <tbody>\n",
              "    <tr>\n",
              "      <th>0</th>\n",
              "      <td>3</td>\n",
              "      <td>20</td>\n",
              "      <td>16.3</td>\n",
              "      <td>1.0</td>\n",
              "      <td>1.5</td>\n",
              "      <td>89.0</td>\n",
              "      <td>576.0</td>\n",
              "      <td>0.027</td>\n",
              "      <td>76.0</td>\n",
              "      <td>33.0</td>\n",
              "      <td>49.0</td>\n",
              "    </tr>\n",
              "    <tr>\n",
              "      <th>1</th>\n",
              "      <td>6</td>\n",
              "      <td>13</td>\n",
              "      <td>20.1</td>\n",
              "      <td>0.0</td>\n",
              "      <td>1.4</td>\n",
              "      <td>48.0</td>\n",
              "      <td>916.0</td>\n",
              "      <td>0.042</td>\n",
              "      <td>73.0</td>\n",
              "      <td>40.0</td>\n",
              "      <td>159.0</td>\n",
              "    </tr>\n",
              "    <tr>\n",
              "      <th>2</th>\n",
              "      <td>7</td>\n",
              "      <td>6</td>\n",
              "      <td>13.9</td>\n",
              "      <td>0.0</td>\n",
              "      <td>0.7</td>\n",
              "      <td>79.0</td>\n",
              "      <td>1382.0</td>\n",
              "      <td>0.033</td>\n",
              "      <td>32.0</td>\n",
              "      <td>19.0</td>\n",
              "      <td>26.0</td>\n",
              "    </tr>\n",
              "    <tr>\n",
              "      <th>3</th>\n",
              "      <td>8</td>\n",
              "      <td>23</td>\n",
              "      <td>8.1</td>\n",
              "      <td>0.0</td>\n",
              "      <td>2.7</td>\n",
              "      <td>54.0</td>\n",
              "      <td>946.0</td>\n",
              "      <td>0.040</td>\n",
              "      <td>75.0</td>\n",
              "      <td>64.0</td>\n",
              "      <td>57.0</td>\n",
              "    </tr>\n",
              "    <tr>\n",
              "      <th>4</th>\n",
              "      <td>9</td>\n",
              "      <td>18</td>\n",
              "      <td>29.5</td>\n",
              "      <td>0.0</td>\n",
              "      <td>4.8</td>\n",
              "      <td>7.0</td>\n",
              "      <td>2000.0</td>\n",
              "      <td>0.057</td>\n",
              "      <td>27.0</td>\n",
              "      <td>11.0</td>\n",
              "      <td>431.0</td>\n",
              "    </tr>\n",
              "  </tbody>\n",
              "</table>\n",
              "</div>\n",
              "      <button class=\"colab-df-convert\" onclick=\"convertToInteractive('df-7c12f891-f966-4453-82bc-4be6646832bb')\"\n",
              "              title=\"Convert this dataframe to an interactive table.\"\n",
              "              style=\"display:none;\">\n",
              "        \n",
              "  <svg xmlns=\"http://www.w3.org/2000/svg\" height=\"24px\"viewBox=\"0 0 24 24\"\n",
              "       width=\"24px\">\n",
              "    <path d=\"M0 0h24v24H0V0z\" fill=\"none\"/>\n",
              "    <path d=\"M18.56 5.44l.94 2.06.94-2.06 2.06-.94-2.06-.94-.94-2.06-.94 2.06-2.06.94zm-11 1L8.5 8.5l.94-2.06 2.06-.94-2.06-.94L8.5 2.5l-.94 2.06-2.06.94zm10 10l.94 2.06.94-2.06 2.06-.94-2.06-.94-.94-2.06-.94 2.06-2.06.94z\"/><path d=\"M17.41 7.96l-1.37-1.37c-.4-.4-.92-.59-1.43-.59-.52 0-1.04.2-1.43.59L10.3 9.45l-7.72 7.72c-.78.78-.78 2.05 0 2.83L4 21.41c.39.39.9.59 1.41.59.51 0 1.02-.2 1.41-.59l7.78-7.78 2.81-2.81c.8-.78.8-2.07 0-2.86zM5.41 20L4 18.59l7.72-7.72 1.47 1.35L5.41 20z\"/>\n",
              "  </svg>\n",
              "      </button>\n",
              "      \n",
              "  <style>\n",
              "    .colab-df-container {\n",
              "      display:flex;\n",
              "      flex-wrap:wrap;\n",
              "      gap: 12px;\n",
              "    }\n",
              "\n",
              "    .colab-df-convert {\n",
              "      background-color: #E8F0FE;\n",
              "      border: none;\n",
              "      border-radius: 50%;\n",
              "      cursor: pointer;\n",
              "      display: none;\n",
              "      fill: #1967D2;\n",
              "      height: 32px;\n",
              "      padding: 0 0 0 0;\n",
              "      width: 32px;\n",
              "    }\n",
              "\n",
              "    .colab-df-convert:hover {\n",
              "      background-color: #E2EBFA;\n",
              "      box-shadow: 0px 1px 2px rgba(60, 64, 67, 0.3), 0px 1px 3px 1px rgba(60, 64, 67, 0.15);\n",
              "      fill: #174EA6;\n",
              "    }\n",
              "\n",
              "    [theme=dark] .colab-df-convert {\n",
              "      background-color: #3B4455;\n",
              "      fill: #D2E3FC;\n",
              "    }\n",
              "\n",
              "    [theme=dark] .colab-df-convert:hover {\n",
              "      background-color: #434B5C;\n",
              "      box-shadow: 0px 1px 3px 1px rgba(0, 0, 0, 0.15);\n",
              "      filter: drop-shadow(0px 1px 2px rgba(0, 0, 0, 0.3));\n",
              "      fill: #FFFFFF;\n",
              "    }\n",
              "  </style>\n",
              "\n",
              "      <script>\n",
              "        const buttonEl =\n",
              "          document.querySelector('#df-7c12f891-f966-4453-82bc-4be6646832bb button.colab-df-convert');\n",
              "        buttonEl.style.display =\n",
              "          google.colab.kernel.accessAllowed ? 'block' : 'none';\n",
              "\n",
              "        async function convertToInteractive(key) {\n",
              "          const element = document.querySelector('#df-7c12f891-f966-4453-82bc-4be6646832bb');\n",
              "          const dataTable =\n",
              "            await google.colab.kernel.invokeFunction('convertToInteractive',\n",
              "                                                     [key], {});\n",
              "          if (!dataTable) return;\n",
              "\n",
              "          const docLinkHtml = 'Like what you see? Visit the ' +\n",
              "            '<a target=\"_blank\" href=https://colab.research.google.com/notebooks/data_table.ipynb>data table notebook</a>'\n",
              "            + ' to learn more about interactive tables.';\n",
              "          element.innerHTML = '';\n",
              "          dataTable['output_type'] = 'display_data';\n",
              "          await google.colab.output.renderOutput(dataTable, element);\n",
              "          const docLink = document.createElement('div');\n",
              "          docLink.innerHTML = docLinkHtml;\n",
              "          element.appendChild(docLink);\n",
              "        }\n",
              "      </script>\n",
              "    </div>\n",
              "  </div>\n",
              "  "
            ]
          },
          "metadata": {},
          "execution_count": 3
        }
      ]
    },
    {
      "cell_type": "code",
      "source": [
        "# test - 5개 행을 보여줌 \n",
        "# count를 예측해야하므로 나오지 않음 \n",
        "test.head()"
      ],
      "metadata": {
        "colab": {
          "base_uri": "https://localhost:8080/",
          "height": 206
        },
        "id": "Qlr1gWgf5jDX",
        "outputId": "eb250bc8-9937-467d-8238-ce2a2e6ee015"
      },
      "execution_count": 4,
      "outputs": [
        {
          "output_type": "execute_result",
          "data": {
            "text/plain": [
              "   id  hour  hour_bef_temperature  hour_bef_precipitation  hour_bef_windspeed  \\\n",
              "0   0     7                  20.7                     0.0                 1.3   \n",
              "1   1    17                  30.0                     0.0                 5.4   \n",
              "2   2    13                  19.0                     1.0                 2.1   \n",
              "3   4     6                  22.5                     0.0                 2.5   \n",
              "4   5    22                  14.6                     1.0                 3.4   \n",
              "\n",
              "   hour_bef_humidity  hour_bef_visibility  hour_bef_ozone  hour_bef_pm10  \\\n",
              "0               62.0                954.0           0.041           44.0   \n",
              "1               33.0               1590.0           0.061           49.0   \n",
              "2               95.0                193.0           0.020           36.0   \n",
              "3               60.0               1185.0           0.027           52.0   \n",
              "4               93.0                218.0           0.041           18.0   \n",
              "\n",
              "   hour_bef_pm2.5  \n",
              "0            27.0  \n",
              "1            36.0  \n",
              "2            28.0  \n",
              "3            38.0  \n",
              "4            15.0  "
            ],
            "text/html": [
              "\n",
              "  <div id=\"df-878044e2-9c08-4bdc-bab0-f4c6372f2e9f\">\n",
              "    <div class=\"colab-df-container\">\n",
              "      <div>\n",
              "<style scoped>\n",
              "    .dataframe tbody tr th:only-of-type {\n",
              "        vertical-align: middle;\n",
              "    }\n",
              "\n",
              "    .dataframe tbody tr th {\n",
              "        vertical-align: top;\n",
              "    }\n",
              "\n",
              "    .dataframe thead th {\n",
              "        text-align: right;\n",
              "    }\n",
              "</style>\n",
              "<table border=\"1\" class=\"dataframe\">\n",
              "  <thead>\n",
              "    <tr style=\"text-align: right;\">\n",
              "      <th></th>\n",
              "      <th>id</th>\n",
              "      <th>hour</th>\n",
              "      <th>hour_bef_temperature</th>\n",
              "      <th>hour_bef_precipitation</th>\n",
              "      <th>hour_bef_windspeed</th>\n",
              "      <th>hour_bef_humidity</th>\n",
              "      <th>hour_bef_visibility</th>\n",
              "      <th>hour_bef_ozone</th>\n",
              "      <th>hour_bef_pm10</th>\n",
              "      <th>hour_bef_pm2.5</th>\n",
              "    </tr>\n",
              "  </thead>\n",
              "  <tbody>\n",
              "    <tr>\n",
              "      <th>0</th>\n",
              "      <td>0</td>\n",
              "      <td>7</td>\n",
              "      <td>20.7</td>\n",
              "      <td>0.0</td>\n",
              "      <td>1.3</td>\n",
              "      <td>62.0</td>\n",
              "      <td>954.0</td>\n",
              "      <td>0.041</td>\n",
              "      <td>44.0</td>\n",
              "      <td>27.0</td>\n",
              "    </tr>\n",
              "    <tr>\n",
              "      <th>1</th>\n",
              "      <td>1</td>\n",
              "      <td>17</td>\n",
              "      <td>30.0</td>\n",
              "      <td>0.0</td>\n",
              "      <td>5.4</td>\n",
              "      <td>33.0</td>\n",
              "      <td>1590.0</td>\n",
              "      <td>0.061</td>\n",
              "      <td>49.0</td>\n",
              "      <td>36.0</td>\n",
              "    </tr>\n",
              "    <tr>\n",
              "      <th>2</th>\n",
              "      <td>2</td>\n",
              "      <td>13</td>\n",
              "      <td>19.0</td>\n",
              "      <td>1.0</td>\n",
              "      <td>2.1</td>\n",
              "      <td>95.0</td>\n",
              "      <td>193.0</td>\n",
              "      <td>0.020</td>\n",
              "      <td>36.0</td>\n",
              "      <td>28.0</td>\n",
              "    </tr>\n",
              "    <tr>\n",
              "      <th>3</th>\n",
              "      <td>4</td>\n",
              "      <td>6</td>\n",
              "      <td>22.5</td>\n",
              "      <td>0.0</td>\n",
              "      <td>2.5</td>\n",
              "      <td>60.0</td>\n",
              "      <td>1185.0</td>\n",
              "      <td>0.027</td>\n",
              "      <td>52.0</td>\n",
              "      <td>38.0</td>\n",
              "    </tr>\n",
              "    <tr>\n",
              "      <th>4</th>\n",
              "      <td>5</td>\n",
              "      <td>22</td>\n",
              "      <td>14.6</td>\n",
              "      <td>1.0</td>\n",
              "      <td>3.4</td>\n",
              "      <td>93.0</td>\n",
              "      <td>218.0</td>\n",
              "      <td>0.041</td>\n",
              "      <td>18.0</td>\n",
              "      <td>15.0</td>\n",
              "    </tr>\n",
              "  </tbody>\n",
              "</table>\n",
              "</div>\n",
              "      <button class=\"colab-df-convert\" onclick=\"convertToInteractive('df-878044e2-9c08-4bdc-bab0-f4c6372f2e9f')\"\n",
              "              title=\"Convert this dataframe to an interactive table.\"\n",
              "              style=\"display:none;\">\n",
              "        \n",
              "  <svg xmlns=\"http://www.w3.org/2000/svg\" height=\"24px\"viewBox=\"0 0 24 24\"\n",
              "       width=\"24px\">\n",
              "    <path d=\"M0 0h24v24H0V0z\" fill=\"none\"/>\n",
              "    <path d=\"M18.56 5.44l.94 2.06.94-2.06 2.06-.94-2.06-.94-.94-2.06-.94 2.06-2.06.94zm-11 1L8.5 8.5l.94-2.06 2.06-.94-2.06-.94L8.5 2.5l-.94 2.06-2.06.94zm10 10l.94 2.06.94-2.06 2.06-.94-2.06-.94-.94-2.06-.94 2.06-2.06.94z\"/><path d=\"M17.41 7.96l-1.37-1.37c-.4-.4-.92-.59-1.43-.59-.52 0-1.04.2-1.43.59L10.3 9.45l-7.72 7.72c-.78.78-.78 2.05 0 2.83L4 21.41c.39.39.9.59 1.41.59.51 0 1.02-.2 1.41-.59l7.78-7.78 2.81-2.81c.8-.78.8-2.07 0-2.86zM5.41 20L4 18.59l7.72-7.72 1.47 1.35L5.41 20z\"/>\n",
              "  </svg>\n",
              "      </button>\n",
              "      \n",
              "  <style>\n",
              "    .colab-df-container {\n",
              "      display:flex;\n",
              "      flex-wrap:wrap;\n",
              "      gap: 12px;\n",
              "    }\n",
              "\n",
              "    .colab-df-convert {\n",
              "      background-color: #E8F0FE;\n",
              "      border: none;\n",
              "      border-radius: 50%;\n",
              "      cursor: pointer;\n",
              "      display: none;\n",
              "      fill: #1967D2;\n",
              "      height: 32px;\n",
              "      padding: 0 0 0 0;\n",
              "      width: 32px;\n",
              "    }\n",
              "\n",
              "    .colab-df-convert:hover {\n",
              "      background-color: #E2EBFA;\n",
              "      box-shadow: 0px 1px 2px rgba(60, 64, 67, 0.3), 0px 1px 3px 1px rgba(60, 64, 67, 0.15);\n",
              "      fill: #174EA6;\n",
              "    }\n",
              "\n",
              "    [theme=dark] .colab-df-convert {\n",
              "      background-color: #3B4455;\n",
              "      fill: #D2E3FC;\n",
              "    }\n",
              "\n",
              "    [theme=dark] .colab-df-convert:hover {\n",
              "      background-color: #434B5C;\n",
              "      box-shadow: 0px 1px 3px 1px rgba(0, 0, 0, 0.15);\n",
              "      filter: drop-shadow(0px 1px 2px rgba(0, 0, 0, 0.3));\n",
              "      fill: #FFFFFF;\n",
              "    }\n",
              "  </style>\n",
              "\n",
              "      <script>\n",
              "        const buttonEl =\n",
              "          document.querySelector('#df-878044e2-9c08-4bdc-bab0-f4c6372f2e9f button.colab-df-convert');\n",
              "        buttonEl.style.display =\n",
              "          google.colab.kernel.accessAllowed ? 'block' : 'none';\n",
              "\n",
              "        async function convertToInteractive(key) {\n",
              "          const element = document.querySelector('#df-878044e2-9c08-4bdc-bab0-f4c6372f2e9f');\n",
              "          const dataTable =\n",
              "            await google.colab.kernel.invokeFunction('convertToInteractive',\n",
              "                                                     [key], {});\n",
              "          if (!dataTable) return;\n",
              "\n",
              "          const docLinkHtml = 'Like what you see? Visit the ' +\n",
              "            '<a target=\"_blank\" href=https://colab.research.google.com/notebooks/data_table.ipynb>data table notebook</a>'\n",
              "            + ' to learn more about interactive tables.';\n",
              "          element.innerHTML = '';\n",
              "          dataTable['output_type'] = 'display_data';\n",
              "          await google.colab.output.renderOutput(dataTable, element);\n",
              "          const docLink = document.createElement('div');\n",
              "          docLink.innerHTML = docLinkHtml;\n",
              "          element.appendChild(docLink);\n",
              "        }\n",
              "      </script>\n",
              "    </div>\n",
              "  </div>\n",
              "  "
            ]
          },
          "metadata": {},
          "execution_count": 4
        }
      ]
    },
    {
      "cell_type": "markdown",
      "source": [
        "### 2-2. 결측값 확인"
      ],
      "metadata": {
        "id": "IzuZJYMZ6Gmb"
      }
    },
    {
      "cell_type": "code",
      "source": [
        "# train의 결측값 총계를 확인하기 \n",
        "train.isna().sum()"
      ],
      "metadata": {
        "colab": {
          "base_uri": "https://localhost:8080/"
        },
        "id": "AQESAHHT6Mnk",
        "outputId": "5f9865e9-8405-4ff1-bfd4-964595464041"
      },
      "execution_count": 5,
      "outputs": [
        {
          "output_type": "execute_result",
          "data": {
            "text/plain": [
              "id                          0\n",
              "hour                        0\n",
              "hour_bef_temperature        2\n",
              "hour_bef_precipitation      2\n",
              "hour_bef_windspeed          9\n",
              "hour_bef_humidity           2\n",
              "hour_bef_visibility         2\n",
              "hour_bef_ozone             76\n",
              "hour_bef_pm10              90\n",
              "hour_bef_pm2.5            117\n",
              "count                       0\n",
              "dtype: int64"
            ]
          },
          "metadata": {},
          "execution_count": 5
        }
      ]
    },
    {
      "cell_type": "code",
      "source": [
        "# test의의 결측값 총계를 확인하기\n",
        "test.isna().sum()"
      ],
      "metadata": {
        "colab": {
          "base_uri": "https://localhost:8080/"
        },
        "id": "VDbMoOSU6VEW",
        "outputId": "e104e23f-f0b8-4720-acd3-59b0c4cc4671"
      },
      "execution_count": 6,
      "outputs": [
        {
          "output_type": "execute_result",
          "data": {
            "text/plain": [
              "id                         0\n",
              "hour                       0\n",
              "hour_bef_temperature       1\n",
              "hour_bef_precipitation     1\n",
              "hour_bef_windspeed         1\n",
              "hour_bef_humidity          1\n",
              "hour_bef_visibility        1\n",
              "hour_bef_ozone            35\n",
              "hour_bef_pm10             37\n",
              "hour_bef_pm2.5            36\n",
              "dtype: int64"
            ]
          },
          "metadata": {},
          "execution_count": 6
        }
      ]
    },
    {
      "cell_type": "markdown",
      "source": [
        "### 2-3-1. 결측값 입력 - TRAIN\n",
        "\n",
        "- 'hour_bef_temperature' \n",
        "\n",
        "- 'hour_bef_windspeed'\n",
        "-----\n",
        "isna() : 결측치 여부 확인\n",
        "\n",
        "fillna() : 결측치 값 채워넣기\n",
        "\n",
        "inplace : 원본을 편집한대로 저장여부\n",
        "True면 저장, False면 저장X"
      ],
      "metadata": {
        "id": "HIiT-fen6nha"
      }
    },
    {
      "cell_type": "code",
      "source": [
        "# (1) 결측값 있는 행 확인 / temperature\n",
        "train[train['hour_bef_temperature'].isna()]"
      ],
      "metadata": {
        "colab": {
          "base_uri": "https://localhost:8080/",
          "height": 112
        },
        "id": "sESvF2gz6uqi",
        "outputId": "4e36c687-01fb-4dd8-a6d6-e88353ac2eaa"
      },
      "execution_count": 8,
      "outputs": [
        {
          "output_type": "execute_result",
          "data": {
            "text/plain": [
              "        id  hour  hour_bef_temperature  hour_bef_precipitation  \\\n",
              "934   1420     0                   NaN                     NaN   \n",
              "1035  1553    18                   NaN                     NaN   \n",
              "\n",
              "      hour_bef_windspeed  hour_bef_humidity  hour_bef_visibility  \\\n",
              "934                  NaN                NaN                  NaN   \n",
              "1035                 NaN                NaN                  NaN   \n",
              "\n",
              "      hour_bef_ozone  hour_bef_pm10  hour_bef_pm2.5  count  \n",
              "934              NaN            NaN             NaN   39.0  \n",
              "1035             NaN            NaN             NaN    1.0  "
            ],
            "text/html": [
              "\n",
              "  <div id=\"df-e14fc30f-7f0e-46cc-8827-3a120c822f49\">\n",
              "    <div class=\"colab-df-container\">\n",
              "      <div>\n",
              "<style scoped>\n",
              "    .dataframe tbody tr th:only-of-type {\n",
              "        vertical-align: middle;\n",
              "    }\n",
              "\n",
              "    .dataframe tbody tr th {\n",
              "        vertical-align: top;\n",
              "    }\n",
              "\n",
              "    .dataframe thead th {\n",
              "        text-align: right;\n",
              "    }\n",
              "</style>\n",
              "<table border=\"1\" class=\"dataframe\">\n",
              "  <thead>\n",
              "    <tr style=\"text-align: right;\">\n",
              "      <th></th>\n",
              "      <th>id</th>\n",
              "      <th>hour</th>\n",
              "      <th>hour_bef_temperature</th>\n",
              "      <th>hour_bef_precipitation</th>\n",
              "      <th>hour_bef_windspeed</th>\n",
              "      <th>hour_bef_humidity</th>\n",
              "      <th>hour_bef_visibility</th>\n",
              "      <th>hour_bef_ozone</th>\n",
              "      <th>hour_bef_pm10</th>\n",
              "      <th>hour_bef_pm2.5</th>\n",
              "      <th>count</th>\n",
              "    </tr>\n",
              "  </thead>\n",
              "  <tbody>\n",
              "    <tr>\n",
              "      <th>934</th>\n",
              "      <td>1420</td>\n",
              "      <td>0</td>\n",
              "      <td>NaN</td>\n",
              "      <td>NaN</td>\n",
              "      <td>NaN</td>\n",
              "      <td>NaN</td>\n",
              "      <td>NaN</td>\n",
              "      <td>NaN</td>\n",
              "      <td>NaN</td>\n",
              "      <td>NaN</td>\n",
              "      <td>39.0</td>\n",
              "    </tr>\n",
              "    <tr>\n",
              "      <th>1035</th>\n",
              "      <td>1553</td>\n",
              "      <td>18</td>\n",
              "      <td>NaN</td>\n",
              "      <td>NaN</td>\n",
              "      <td>NaN</td>\n",
              "      <td>NaN</td>\n",
              "      <td>NaN</td>\n",
              "      <td>NaN</td>\n",
              "      <td>NaN</td>\n",
              "      <td>NaN</td>\n",
              "      <td>1.0</td>\n",
              "    </tr>\n",
              "  </tbody>\n",
              "</table>\n",
              "</div>\n",
              "      <button class=\"colab-df-convert\" onclick=\"convertToInteractive('df-e14fc30f-7f0e-46cc-8827-3a120c822f49')\"\n",
              "              title=\"Convert this dataframe to an interactive table.\"\n",
              "              style=\"display:none;\">\n",
              "        \n",
              "  <svg xmlns=\"http://www.w3.org/2000/svg\" height=\"24px\"viewBox=\"0 0 24 24\"\n",
              "       width=\"24px\">\n",
              "    <path d=\"M0 0h24v24H0V0z\" fill=\"none\"/>\n",
              "    <path d=\"M18.56 5.44l.94 2.06.94-2.06 2.06-.94-2.06-.94-.94-2.06-.94 2.06-2.06.94zm-11 1L8.5 8.5l.94-2.06 2.06-.94-2.06-.94L8.5 2.5l-.94 2.06-2.06.94zm10 10l.94 2.06.94-2.06 2.06-.94-2.06-.94-.94-2.06-.94 2.06-2.06.94z\"/><path d=\"M17.41 7.96l-1.37-1.37c-.4-.4-.92-.59-1.43-.59-.52 0-1.04.2-1.43.59L10.3 9.45l-7.72 7.72c-.78.78-.78 2.05 0 2.83L4 21.41c.39.39.9.59 1.41.59.51 0 1.02-.2 1.41-.59l7.78-7.78 2.81-2.81c.8-.78.8-2.07 0-2.86zM5.41 20L4 18.59l7.72-7.72 1.47 1.35L5.41 20z\"/>\n",
              "  </svg>\n",
              "      </button>\n",
              "      \n",
              "  <style>\n",
              "    .colab-df-container {\n",
              "      display:flex;\n",
              "      flex-wrap:wrap;\n",
              "      gap: 12px;\n",
              "    }\n",
              "\n",
              "    .colab-df-convert {\n",
              "      background-color: #E8F0FE;\n",
              "      border: none;\n",
              "      border-radius: 50%;\n",
              "      cursor: pointer;\n",
              "      display: none;\n",
              "      fill: #1967D2;\n",
              "      height: 32px;\n",
              "      padding: 0 0 0 0;\n",
              "      width: 32px;\n",
              "    }\n",
              "\n",
              "    .colab-df-convert:hover {\n",
              "      background-color: #E2EBFA;\n",
              "      box-shadow: 0px 1px 2px rgba(60, 64, 67, 0.3), 0px 1px 3px 1px rgba(60, 64, 67, 0.15);\n",
              "      fill: #174EA6;\n",
              "    }\n",
              "\n",
              "    [theme=dark] .colab-df-convert {\n",
              "      background-color: #3B4455;\n",
              "      fill: #D2E3FC;\n",
              "    }\n",
              "\n",
              "    [theme=dark] .colab-df-convert:hover {\n",
              "      background-color: #434B5C;\n",
              "      box-shadow: 0px 1px 3px 1px rgba(0, 0, 0, 0.15);\n",
              "      filter: drop-shadow(0px 1px 2px rgba(0, 0, 0, 0.3));\n",
              "      fill: #FFFFFF;\n",
              "    }\n",
              "  </style>\n",
              "\n",
              "      <script>\n",
              "        const buttonEl =\n",
              "          document.querySelector('#df-e14fc30f-7f0e-46cc-8827-3a120c822f49 button.colab-df-convert');\n",
              "        buttonEl.style.display =\n",
              "          google.colab.kernel.accessAllowed ? 'block' : 'none';\n",
              "\n",
              "        async function convertToInteractive(key) {\n",
              "          const element = document.querySelector('#df-e14fc30f-7f0e-46cc-8827-3a120c822f49');\n",
              "          const dataTable =\n",
              "            await google.colab.kernel.invokeFunction('convertToInteractive',\n",
              "                                                     [key], {});\n",
              "          if (!dataTable) return;\n",
              "\n",
              "          const docLinkHtml = 'Like what you see? Visit the ' +\n",
              "            '<a target=\"_blank\" href=https://colab.research.google.com/notebooks/data_table.ipynb>data table notebook</a>'\n",
              "            + ' to learn more about interactive tables.';\n",
              "          element.innerHTML = '';\n",
              "          dataTable['output_type'] = 'display_data';\n",
              "          await google.colab.output.renderOutput(dataTable, element);\n",
              "          const docLink = document.createElement('div');\n",
              "          docLink.innerHTML = docLinkHtml;\n",
              "          element.appendChild(docLink);\n",
              "        }\n",
              "      </script>\n",
              "    </div>\n",
              "  </div>\n",
              "  "
            ]
          },
          "metadata": {},
          "execution_count": 8
        }
      ]
    },
    {
      "cell_type": "code",
      "source": [
        "# (1) 평균온도로 넣으면 차이가 많이 나기 때문에 시간별 평균온도를 사용\n",
        "train.groupby('hour').mean()['hour_bef_temperature']"
      ],
      "metadata": {
        "colab": {
          "base_uri": "https://localhost:8080/"
        },
        "id": "sGIYJ7Oh6_Kp",
        "outputId": "791e838e-d38e-4cfb-d670-6e7466240751"
      },
      "execution_count": 9,
      "outputs": [
        {
          "output_type": "execute_result",
          "data": {
            "text/plain": [
              "hour\n",
              "0     14.788136\n",
              "1     14.155738\n",
              "2     13.747541\n",
              "3     13.357377\n",
              "4     13.001639\n",
              "5     12.673770\n",
              "6     12.377049\n",
              "7     12.191803\n",
              "8     12.600000\n",
              "9     14.318033\n",
              "10    16.242623\n",
              "11    18.019672\n",
              "12    19.457377\n",
              "13    20.648333\n",
              "14    21.234426\n",
              "15    21.744262\n",
              "16    22.015000\n",
              "17    21.603333\n",
              "18    20.926667\n",
              "19    19.704918\n",
              "20    18.191803\n",
              "21    16.978333\n",
              "22    16.063934\n",
              "23    15.418033\n",
              "Name: hour_bef_temperature, dtype: float64"
            ]
          },
          "metadata": {},
          "execution_count": 9
        }
      ]
    },
    {
      "cell_type": "code",
      "source": [
        "# (1) 934, 1035번 행을 위의 시간별 평균, 딕셔너리 형태로 대입\n",
        "# inplace로 저장함\n",
        "train['hour_bef_temperature'].fillna({934:14.788136,1035:20.926667},inplace=True)"
      ],
      "metadata": {
        "id": "-i0gy35f7V6N"
      },
      "execution_count": 11,
      "outputs": []
    },
    {
      "cell_type": "code",
      "source": [
        "# (2) 결측값 있는 행 확인 / windspeed\n",
        "train[train['hour_bef_windspeed'].isna()]"
      ],
      "metadata": {
        "colab": {
          "base_uri": "https://localhost:8080/",
          "height": 331
        },
        "id": "hHnd0VSj7avQ",
        "outputId": "5a2ca986-c564-4210-ca63-6096335651b4"
      },
      "execution_count": 12,
      "outputs": [
        {
          "output_type": "execute_result",
          "data": {
            "text/plain": [
              "        id  hour  hour_bef_temperature  hour_bef_precipitation  \\\n",
              "18      33    13             22.600000                     0.0   \n",
              "244    381     1             14.100000                     0.0   \n",
              "260    404     3             14.000000                     0.0   \n",
              "376    570     0             14.300000                     0.0   \n",
              "780   1196    20             16.500000                     0.0   \n",
              "934   1420     0             14.788136                     NaN   \n",
              "1035  1553    18             20.926667                     NaN   \n",
              "1138  1717    12             21.400000                     0.0   \n",
              "1229  1855     2             14.000000                     0.0   \n",
              "\n",
              "      hour_bef_windspeed  hour_bef_humidity  hour_bef_visibility  \\\n",
              "18                   NaN               41.0                987.0   \n",
              "244                  NaN               55.0               1992.0   \n",
              "260                  NaN               50.0               2000.0   \n",
              "376                  NaN               49.0               2000.0   \n",
              "780                  NaN               31.0               2000.0   \n",
              "934                  NaN                NaN                  NaN   \n",
              "1035                 NaN                NaN                  NaN   \n",
              "1138                 NaN               44.0               1375.0   \n",
              "1229                 NaN               52.0               2000.0   \n",
              "\n",
              "      hour_bef_ozone  hour_bef_pm10  hour_bef_pm2.5  count  \n",
              "18             0.046           64.0            39.0  208.0  \n",
              "244              NaN            NaN             NaN   38.0  \n",
              "260            0.049           35.0            22.0   17.0  \n",
              "376            0.044           37.0            20.0   58.0  \n",
              "780            0.058           39.0            18.0  181.0  \n",
              "934              NaN            NaN             NaN   39.0  \n",
              "1035             NaN            NaN             NaN    1.0  \n",
              "1138           0.044           61.0            37.0  116.0  \n",
              "1229           0.044           37.0            20.0   20.0  "
            ],
            "text/html": [
              "\n",
              "  <div id=\"df-8a25bcad-5ee7-412f-b762-6ad410078a59\">\n",
              "    <div class=\"colab-df-container\">\n",
              "      <div>\n",
              "<style scoped>\n",
              "    .dataframe tbody tr th:only-of-type {\n",
              "        vertical-align: middle;\n",
              "    }\n",
              "\n",
              "    .dataframe tbody tr th {\n",
              "        vertical-align: top;\n",
              "    }\n",
              "\n",
              "    .dataframe thead th {\n",
              "        text-align: right;\n",
              "    }\n",
              "</style>\n",
              "<table border=\"1\" class=\"dataframe\">\n",
              "  <thead>\n",
              "    <tr style=\"text-align: right;\">\n",
              "      <th></th>\n",
              "      <th>id</th>\n",
              "      <th>hour</th>\n",
              "      <th>hour_bef_temperature</th>\n",
              "      <th>hour_bef_precipitation</th>\n",
              "      <th>hour_bef_windspeed</th>\n",
              "      <th>hour_bef_humidity</th>\n",
              "      <th>hour_bef_visibility</th>\n",
              "      <th>hour_bef_ozone</th>\n",
              "      <th>hour_bef_pm10</th>\n",
              "      <th>hour_bef_pm2.5</th>\n",
              "      <th>count</th>\n",
              "    </tr>\n",
              "  </thead>\n",
              "  <tbody>\n",
              "    <tr>\n",
              "      <th>18</th>\n",
              "      <td>33</td>\n",
              "      <td>13</td>\n",
              "      <td>22.600000</td>\n",
              "      <td>0.0</td>\n",
              "      <td>NaN</td>\n",
              "      <td>41.0</td>\n",
              "      <td>987.0</td>\n",
              "      <td>0.046</td>\n",
              "      <td>64.0</td>\n",
              "      <td>39.0</td>\n",
              "      <td>208.0</td>\n",
              "    </tr>\n",
              "    <tr>\n",
              "      <th>244</th>\n",
              "      <td>381</td>\n",
              "      <td>1</td>\n",
              "      <td>14.100000</td>\n",
              "      <td>0.0</td>\n",
              "      <td>NaN</td>\n",
              "      <td>55.0</td>\n",
              "      <td>1992.0</td>\n",
              "      <td>NaN</td>\n",
              "      <td>NaN</td>\n",
              "      <td>NaN</td>\n",
              "      <td>38.0</td>\n",
              "    </tr>\n",
              "    <tr>\n",
              "      <th>260</th>\n",
              "      <td>404</td>\n",
              "      <td>3</td>\n",
              "      <td>14.000000</td>\n",
              "      <td>0.0</td>\n",
              "      <td>NaN</td>\n",
              "      <td>50.0</td>\n",
              "      <td>2000.0</td>\n",
              "      <td>0.049</td>\n",
              "      <td>35.0</td>\n",
              "      <td>22.0</td>\n",
              "      <td>17.0</td>\n",
              "    </tr>\n",
              "    <tr>\n",
              "      <th>376</th>\n",
              "      <td>570</td>\n",
              "      <td>0</td>\n",
              "      <td>14.300000</td>\n",
              "      <td>0.0</td>\n",
              "      <td>NaN</td>\n",
              "      <td>49.0</td>\n",
              "      <td>2000.0</td>\n",
              "      <td>0.044</td>\n",
              "      <td>37.0</td>\n",
              "      <td>20.0</td>\n",
              "      <td>58.0</td>\n",
              "    </tr>\n",
              "    <tr>\n",
              "      <th>780</th>\n",
              "      <td>1196</td>\n",
              "      <td>20</td>\n",
              "      <td>16.500000</td>\n",
              "      <td>0.0</td>\n",
              "      <td>NaN</td>\n",
              "      <td>31.0</td>\n",
              "      <td>2000.0</td>\n",
              "      <td>0.058</td>\n",
              "      <td>39.0</td>\n",
              "      <td>18.0</td>\n",
              "      <td>181.0</td>\n",
              "    </tr>\n",
              "    <tr>\n",
              "      <th>934</th>\n",
              "      <td>1420</td>\n",
              "      <td>0</td>\n",
              "      <td>14.788136</td>\n",
              "      <td>NaN</td>\n",
              "      <td>NaN</td>\n",
              "      <td>NaN</td>\n",
              "      <td>NaN</td>\n",
              "      <td>NaN</td>\n",
              "      <td>NaN</td>\n",
              "      <td>NaN</td>\n",
              "      <td>39.0</td>\n",
              "    </tr>\n",
              "    <tr>\n",
              "      <th>1035</th>\n",
              "      <td>1553</td>\n",
              "      <td>18</td>\n",
              "      <td>20.926667</td>\n",
              "      <td>NaN</td>\n",
              "      <td>NaN</td>\n",
              "      <td>NaN</td>\n",
              "      <td>NaN</td>\n",
              "      <td>NaN</td>\n",
              "      <td>NaN</td>\n",
              "      <td>NaN</td>\n",
              "      <td>1.0</td>\n",
              "    </tr>\n",
              "    <tr>\n",
              "      <th>1138</th>\n",
              "      <td>1717</td>\n",
              "      <td>12</td>\n",
              "      <td>21.400000</td>\n",
              "      <td>0.0</td>\n",
              "      <td>NaN</td>\n",
              "      <td>44.0</td>\n",
              "      <td>1375.0</td>\n",
              "      <td>0.044</td>\n",
              "      <td>61.0</td>\n",
              "      <td>37.0</td>\n",
              "      <td>116.0</td>\n",
              "    </tr>\n",
              "    <tr>\n",
              "      <th>1229</th>\n",
              "      <td>1855</td>\n",
              "      <td>2</td>\n",
              "      <td>14.000000</td>\n",
              "      <td>0.0</td>\n",
              "      <td>NaN</td>\n",
              "      <td>52.0</td>\n",
              "      <td>2000.0</td>\n",
              "      <td>0.044</td>\n",
              "      <td>37.0</td>\n",
              "      <td>20.0</td>\n",
              "      <td>20.0</td>\n",
              "    </tr>\n",
              "  </tbody>\n",
              "</table>\n",
              "</div>\n",
              "      <button class=\"colab-df-convert\" onclick=\"convertToInteractive('df-8a25bcad-5ee7-412f-b762-6ad410078a59')\"\n",
              "              title=\"Convert this dataframe to an interactive table.\"\n",
              "              style=\"display:none;\">\n",
              "        \n",
              "  <svg xmlns=\"http://www.w3.org/2000/svg\" height=\"24px\"viewBox=\"0 0 24 24\"\n",
              "       width=\"24px\">\n",
              "    <path d=\"M0 0h24v24H0V0z\" fill=\"none\"/>\n",
              "    <path d=\"M18.56 5.44l.94 2.06.94-2.06 2.06-.94-2.06-.94-.94-2.06-.94 2.06-2.06.94zm-11 1L8.5 8.5l.94-2.06 2.06-.94-2.06-.94L8.5 2.5l-.94 2.06-2.06.94zm10 10l.94 2.06.94-2.06 2.06-.94-2.06-.94-.94-2.06-.94 2.06-2.06.94z\"/><path d=\"M17.41 7.96l-1.37-1.37c-.4-.4-.92-.59-1.43-.59-.52 0-1.04.2-1.43.59L10.3 9.45l-7.72 7.72c-.78.78-.78 2.05 0 2.83L4 21.41c.39.39.9.59 1.41.59.51 0 1.02-.2 1.41-.59l7.78-7.78 2.81-2.81c.8-.78.8-2.07 0-2.86zM5.41 20L4 18.59l7.72-7.72 1.47 1.35L5.41 20z\"/>\n",
              "  </svg>\n",
              "      </button>\n",
              "      \n",
              "  <style>\n",
              "    .colab-df-container {\n",
              "      display:flex;\n",
              "      flex-wrap:wrap;\n",
              "      gap: 12px;\n",
              "    }\n",
              "\n",
              "    .colab-df-convert {\n",
              "      background-color: #E8F0FE;\n",
              "      border: none;\n",
              "      border-radius: 50%;\n",
              "      cursor: pointer;\n",
              "      display: none;\n",
              "      fill: #1967D2;\n",
              "      height: 32px;\n",
              "      padding: 0 0 0 0;\n",
              "      width: 32px;\n",
              "    }\n",
              "\n",
              "    .colab-df-convert:hover {\n",
              "      background-color: #E2EBFA;\n",
              "      box-shadow: 0px 1px 2px rgba(60, 64, 67, 0.3), 0px 1px 3px 1px rgba(60, 64, 67, 0.15);\n",
              "      fill: #174EA6;\n",
              "    }\n",
              "\n",
              "    [theme=dark] .colab-df-convert {\n",
              "      background-color: #3B4455;\n",
              "      fill: #D2E3FC;\n",
              "    }\n",
              "\n",
              "    [theme=dark] .colab-df-convert:hover {\n",
              "      background-color: #434B5C;\n",
              "      box-shadow: 0px 1px 3px 1px rgba(0, 0, 0, 0.15);\n",
              "      filter: drop-shadow(0px 1px 2px rgba(0, 0, 0, 0.3));\n",
              "      fill: #FFFFFF;\n",
              "    }\n",
              "  </style>\n",
              "\n",
              "      <script>\n",
              "        const buttonEl =\n",
              "          document.querySelector('#df-8a25bcad-5ee7-412f-b762-6ad410078a59 button.colab-df-convert');\n",
              "        buttonEl.style.display =\n",
              "          google.colab.kernel.accessAllowed ? 'block' : 'none';\n",
              "\n",
              "        async function convertToInteractive(key) {\n",
              "          const element = document.querySelector('#df-8a25bcad-5ee7-412f-b762-6ad410078a59');\n",
              "          const dataTable =\n",
              "            await google.colab.kernel.invokeFunction('convertToInteractive',\n",
              "                                                     [key], {});\n",
              "          if (!dataTable) return;\n",
              "\n",
              "          const docLinkHtml = 'Like what you see? Visit the ' +\n",
              "            '<a target=\"_blank\" href=https://colab.research.google.com/notebooks/data_table.ipynb>data table notebook</a>'\n",
              "            + ' to learn more about interactive tables.';\n",
              "          element.innerHTML = '';\n",
              "          dataTable['output_type'] = 'display_data';\n",
              "          await google.colab.output.renderOutput(dataTable, element);\n",
              "          const docLink = document.createElement('div');\n",
              "          docLink.innerHTML = docLinkHtml;\n",
              "          element.appendChild(docLink);\n",
              "        }\n",
              "      </script>\n",
              "    </div>\n",
              "  </div>\n",
              "  "
            ]
          },
          "metadata": {},
          "execution_count": 12
        }
      ]
    },
    {
      "cell_type": "code",
      "source": [
        "# (2) 시간별 풍속\n",
        "train.groupby('hour').mean()['hour_bef_windspeed']"
      ],
      "metadata": {
        "colab": {
          "base_uri": "https://localhost:8080/"
        },
        "id": "qWDv-d068pwo",
        "outputId": "6e4eb009-1eb7-425f-9d7a-eff9b2ccd5fd"
      },
      "execution_count": 13,
      "outputs": [
        {
          "output_type": "execute_result",
          "data": {
            "text/plain": [
              "hour\n",
              "0     1.965517\n",
              "1     1.836667\n",
              "2     1.633333\n",
              "3     1.620000\n",
              "4     1.409836\n",
              "5     1.296721\n",
              "6     1.331148\n",
              "7     1.262295\n",
              "8     1.632787\n",
              "9     1.829508\n",
              "10    2.122951\n",
              "11    2.485246\n",
              "12    2.766667\n",
              "13    3.281356\n",
              "14    3.522951\n",
              "15    3.768852\n",
              "16    3.820000\n",
              "17    3.801667\n",
              "18    3.838333\n",
              "19    3.595082\n",
              "20    3.278333\n",
              "21    2.755000\n",
              "22    2.498361\n",
              "23    2.195082\n",
              "Name: hour_bef_windspeed, dtype: float64"
            ]
          },
          "metadata": {},
          "execution_count": 13
        }
      ]
    },
    {
      "cell_type": "code",
      "source": [
        "# (2) 행을 위의 시간별 평균, 딕셔너리 형태로 대입\n",
        "# inplace로 저장함\n",
        "train['hour_bef_windspeed'].fillna({18:3.281356,244:1.836667,260:1.620000,376:1.965517,780:3.278333,934:1.965517,1035:3.838333,1138:2.766667,1229:1.633333},inplace=True)"
      ],
      "metadata": {
        "id": "4OdVnJoZ87Je"
      },
      "execution_count": 14,
      "outputs": []
    },
    {
      "cell_type": "markdown",
      "source": [
        "### 2-3-2. 결측값 입력 - TEST"
      ],
      "metadata": {
        "id": "ZqlNxqq_9Np8"
      }
    },
    {
      "cell_type": "code",
      "source": [
        "# (1) 각각 한 개인 결측값을 바꿈\n",
        "test['hour_bef_temperature'].fillna(19.704918, inplace=True)\n",
        "test['hour_bef_windspeed'].fillna(3.595082, inplace=True)"
      ],
      "metadata": {
        "id": "sAKBhSrW9V_x"
      },
      "execution_count": 15,
      "outputs": []
    },
    {
      "cell_type": "markdown",
      "source": [
        "## 3. 변수 선택 및 모델 구축\n",
        "## Feature Engineering & Initial Modeling\n"
      ],
      "metadata": {
        "id": "CS8w-VAS-aRz"
      }
    },
    {
      "cell_type": "code",
      "source": [
        "# 사용할 변수 feature\n",
        "features = ['hour','hour_bef_temperature','hour_bef_windspeed']"
      ],
      "metadata": {
        "id": "fbNQc26R-nyH"
      },
      "execution_count": 16,
      "outputs": []
    },
    {
      "cell_type": "code",
      "source": [
        "# 학습 시킬 데이터를 분리\n",
        "X_train = train[features]\n",
        "y_train = train['count']\n",
        "X_test = test[features]"
      ],
      "metadata": {
        "id": "xqlMkYsY-1RX"
      },
      "execution_count": 19,
      "outputs": []
    },
    {
      "cell_type": "code",
      "source": [
        "# 각 데이터의 개수 확인\n",
        "print(X_train.shape)\n",
        "print(y_train.shape)\n",
        "print(X_test.shape)"
      ],
      "metadata": {
        "colab": {
          "base_uri": "https://localhost:8080/"
        },
        "id": "FFP_h8WG_CtJ",
        "outputId": "578fc7b0-8e79-40d3-8b9c-1043c33d8906"
      },
      "execution_count": 20,
      "outputs": [
        {
          "output_type": "stream",
          "name": "stdout",
          "text": [
            "(1459, 3)\n",
            "(1459,)\n",
            "(715, 3)\n"
          ]
        }
      ]
    },
    {
      "cell_type": "markdown",
      "source": [
        "#### RandomForest\n",
        "![사진.png](data:image/png;base64,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)\n",
        " (1) ensemble 기법 중 하나 \n",
        "    \n",
        "     : 여러 번 샘플을 뽑아서 각 모델을 학습시켜 결과를 집계하는 방법으로 다수의 모델델을 연결하여 강력한 모델을 만든다. \n",
        "\n",
        " (2) ML - classifier, Regression 문제에 효과적\n",
        " \n",
        " (3) parameter\n",
        "\n",
        "    ① n_estimators : 생성할 트리의 개수\n",
        "    ② max_features : - 최대 선택할 특성의 수\n",
        "                      - 트리를 얼마나 무작위로 나눌 것인지 결정\n",
        "    ③ max_depth : - 트리의 깊이 \n",
        "                   - 이 수가 높을 수록 복잡한 트리가 도출\n",
        "                   - 일반적으로 트리를 너무 깊게 만들면 모델이 복잡해져서 overfitting문제가 발생"
      ],
      "metadata": {
        "id": "TchRspEuADEb"
      }
    },
    {
      "cell_type": "code",
      "source": [
        "model100 = RandomForestRegressor(n_estimators=100, random_state=0)\n",
        "model100_5 = RandomForestRegressor(n_estimators=100, max_depth =5,  random_state=0)\n",
        "model200 = RandomForestRegressor(n_estimators=200)"
      ],
      "metadata": {
        "id": "BJQp8clr_L-W"
      },
      "execution_count": 21,
      "outputs": []
    },
    {
      "cell_type": "code",
      "source": [
        "# 3개를 설정해서 학습진행행\n",
        "model100.fit(X_train, y_train)\n",
        "model100_5.fit(X_train, y_train)\n",
        "model200.fit(X_train, y_train)"
      ],
      "metadata": {
        "colab": {
          "base_uri": "https://localhost:8080/",
          "height": 74
        },
        "id": "GZ2nav1l_vEf",
        "outputId": "26f8865e-3195-4e46-bfdc-917b0855c22c"
      },
      "execution_count": 22,
      "outputs": [
        {
          "output_type": "execute_result",
          "data": {
            "text/plain": [
              "RandomForestRegressor(n_estimators=200)"
            ],
            "text/html": [
              "<style>#sk-container-id-1 {color: black;background-color: white;}#sk-container-id-1 pre{padding: 0;}#sk-container-id-1 div.sk-toggleable {background-color: white;}#sk-container-id-1 label.sk-toggleable__label {cursor: pointer;display: block;width: 100%;margin-bottom: 0;padding: 0.3em;box-sizing: border-box;text-align: center;}#sk-container-id-1 label.sk-toggleable__label-arrow:before {content: \"▸\";float: left;margin-right: 0.25em;color: #696969;}#sk-container-id-1 label.sk-toggleable__label-arrow:hover:before {color: black;}#sk-container-id-1 div.sk-estimator:hover label.sk-toggleable__label-arrow:before {color: black;}#sk-container-id-1 div.sk-toggleable__content {max-height: 0;max-width: 0;overflow: hidden;text-align: left;background-color: #f0f8ff;}#sk-container-id-1 div.sk-toggleable__content pre {margin: 0.2em;color: black;border-radius: 0.25em;background-color: #f0f8ff;}#sk-container-id-1 input.sk-toggleable__control:checked~div.sk-toggleable__content {max-height: 200px;max-width: 100%;overflow: auto;}#sk-container-id-1 input.sk-toggleable__control:checked~label.sk-toggleable__label-arrow:before {content: \"▾\";}#sk-container-id-1 div.sk-estimator input.sk-toggleable__control:checked~label.sk-toggleable__label {background-color: #d4ebff;}#sk-container-id-1 div.sk-label input.sk-toggleable__control:checked~label.sk-toggleable__label {background-color: #d4ebff;}#sk-container-id-1 input.sk-hidden--visually {border: 0;clip: rect(1px 1px 1px 1px);clip: rect(1px, 1px, 1px, 1px);height: 1px;margin: -1px;overflow: hidden;padding: 0;position: absolute;width: 1px;}#sk-container-id-1 div.sk-estimator {font-family: monospace;background-color: #f0f8ff;border: 1px dotted black;border-radius: 0.25em;box-sizing: border-box;margin-bottom: 0.5em;}#sk-container-id-1 div.sk-estimator:hover {background-color: #d4ebff;}#sk-container-id-1 div.sk-parallel-item::after {content: \"\";width: 100%;border-bottom: 1px solid gray;flex-grow: 1;}#sk-container-id-1 div.sk-label:hover label.sk-toggleable__label {background-color: #d4ebff;}#sk-container-id-1 div.sk-serial::before {content: \"\";position: absolute;border-left: 1px solid gray;box-sizing: border-box;top: 0;bottom: 0;left: 50%;z-index: 0;}#sk-container-id-1 div.sk-serial {display: flex;flex-direction: column;align-items: center;background-color: white;padding-right: 0.2em;padding-left: 0.2em;position: relative;}#sk-container-id-1 div.sk-item {position: relative;z-index: 1;}#sk-container-id-1 div.sk-parallel {display: flex;align-items: stretch;justify-content: center;background-color: white;position: relative;}#sk-container-id-1 div.sk-item::before, #sk-container-id-1 div.sk-parallel-item::before {content: \"\";position: absolute;border-left: 1px solid gray;box-sizing: border-box;top: 0;bottom: 0;left: 50%;z-index: -1;}#sk-container-id-1 div.sk-parallel-item {display: flex;flex-direction: column;z-index: 1;position: relative;background-color: white;}#sk-container-id-1 div.sk-parallel-item:first-child::after {align-self: flex-end;width: 50%;}#sk-container-id-1 div.sk-parallel-item:last-child::after {align-self: flex-start;width: 50%;}#sk-container-id-1 div.sk-parallel-item:only-child::after {width: 0;}#sk-container-id-1 div.sk-dashed-wrapped {border: 1px dashed gray;margin: 0 0.4em 0.5em 0.4em;box-sizing: border-box;padding-bottom: 0.4em;background-color: white;}#sk-container-id-1 div.sk-label label {font-family: monospace;font-weight: bold;display: inline-block;line-height: 1.2em;}#sk-container-id-1 div.sk-label-container {text-align: center;}#sk-container-id-1 div.sk-container {/* jupyter's `normalize.less` sets `[hidden] { display: none; }` but bootstrap.min.css set `[hidden] { display: none !important; }` so we also need the `!important` here to be able to override the default hidden behavior on the sphinx rendered scikit-learn.org. See: https://github.com/scikit-learn/scikit-learn/issues/21755 */display: inline-block !important;position: relative;}#sk-container-id-1 div.sk-text-repr-fallback {display: none;}</style><div id=\"sk-container-id-1\" class=\"sk-top-container\"><div class=\"sk-text-repr-fallback\"><pre>RandomForestRegressor(n_estimators=200)</pre><b>In a Jupyter environment, please rerun this cell to show the HTML representation or trust the notebook. <br />On GitHub, the HTML representation is unable to render, please try loading this page with nbviewer.org.</b></div><div class=\"sk-container\" hidden><div class=\"sk-item\"><div class=\"sk-estimator sk-toggleable\"><input class=\"sk-toggleable__control sk-hidden--visually\" id=\"sk-estimator-id-1\" type=\"checkbox\" checked><label for=\"sk-estimator-id-1\" class=\"sk-toggleable__label sk-toggleable__label-arrow\">RandomForestRegressor</label><div class=\"sk-toggleable__content\"><pre>RandomForestRegressor(n_estimators=200)</pre></div></div></div></div></div>"
            ]
          },
          "metadata": {},
          "execution_count": 22
        }
      ]
    },
    {
      "cell_type": "code",
      "source": [
        "# 결과값을 ypred에 대입\n",
        "ypred1=model100.predict(X_test)\n",
        "ypred2=model100_5.predict(X_test)\n",
        "ypred3=model200.predict(X_test)"
      ],
      "metadata": {
        "id": "3Ps4-AP6A6IX"
      },
      "execution_count": 23,
      "outputs": []
    },
    {
      "cell_type": "markdown",
      "source": [
        "## 4. CSV 파일로 저장"
      ],
      "metadata": {
        "id": "8YbpXLBcD3y1"
      }
    },
    {
      "cell_type": "code",
      "source": [
        "# submission - 답안을 csv 파일 형식으로 제출\n",
        "submission['count']=ypred1\n",
        "submission.to_csv('moodel100.csv',index=False)"
      ],
      "metadata": {
        "id": "rNwI91GqBDB8"
      },
      "execution_count": 25,
      "outputs": []
    },
    {
      "cell_type": "code",
      "source": [
        "# submission - 답안을 csv 파일 형식으로 제출\n",
        "submission['count']=ypred2\n",
        "submission.to_csv('moodel100_5.csv',index=False)"
      ],
      "metadata": {
        "id": "RULpAHrxBLV8"
      },
      "execution_count": 26,
      "outputs": []
    },
    {
      "cell_type": "code",
      "source": [
        "# submission - 답안을 csv 파일 형식으로 제출\n",
        "submission['count']=ypred3\n",
        "submission.to_csv('moodel200=.csv',index=False)"
      ],
      "metadata": {
        "id": "62s0ocm7BdP4"
      },
      "execution_count": 30,
      "outputs": []
    },
    {
      "cell_type": "markdown",
      "source": [
        "## 결과\n",
        "\n",
        "'moodel200=.csv'가 가장 높은 결과를 도출\n",
        "\n",
        "\n",
        "![KAGGLE.png](data:image/png;base64,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)\n",
        "\n"
      ],
      "metadata": {
        "id": "_xY19BcjKduS"
      }
    }
  ]
}